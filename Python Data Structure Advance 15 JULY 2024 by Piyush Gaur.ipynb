{
 "cells": [
  {
   "cell_type": "markdown",
   "metadata": {},
   "source": [
    "# ***Python Data Structure Advance Assignment 15 JULY 2024 by Piyush Gaur***"
   ]
  },
  {
   "cell_type": "markdown",
   "metadata": {},
   "source": [
    "#### 1. Write a code to reverse a string. "
   ]
  },
  {
   "cell_type": "code",
   "execution_count": 4,
   "metadata": {},
   "outputs": [
    {
     "data": {
      "text/plain": [
       "'scitylana atad evol ruaG hsuyiP'"
      ]
     },
     "execution_count": 4,
     "metadata": {},
     "output_type": "execute_result"
    }
   ],
   "source": [
    "def funcs(s):\n",
    "    return s[::-1]\n",
    "\n",
    "funcs(\"Piyush Gaur love data analytics\")"
   ]
  },
  {
   "cell_type": "markdown",
   "metadata": {},
   "source": [
    "---\n",
    "#### 2. Write a code to count the number of vowels in a string."
   ]
  },
  {
   "cell_type": "code",
   "execution_count": 5,
   "metadata": {},
   "outputs": [
    {
     "data": {
      "text/plain": [
       "11"
      ]
     },
     "execution_count": 5,
     "metadata": {},
     "output_type": "execute_result"
    }
   ],
   "source": [
    "def funv(s):\n",
    "    count=0\n",
    "    letters = ['a', 'e', 'i', 'o', 'u']\n",
    "    for i in s:\n",
    "        for j in letters:\n",
    "            if i==j:\n",
    "             count+=1\n",
    "    return count\n",
    "\n",
    "funv(\"Piyush Gaur love data analytics\")"
   ]
  },
  {
   "cell_type": "markdown",
   "metadata": {},
   "source": [
    "---\n",
    "#### 3. Write a code to check if a given string is palindrome or not."
   ]
  },
  {
   "cell_type": "code",
   "execution_count": 6,
   "metadata": {},
   "outputs": [
    {
     "name": "stdout",
     "output_type": "stream",
     "text": [
      "7\n",
      "True\n"
     ]
    }
   ],
   "source": [
    "def funp(s):\n",
    "    x = 0\n",
    "    y = len(s) - 1\n",
    "\n",
    "    while x < y:\n",
    "        if s[x] != s[y]:\n",
    "            return False\n",
    "        x += 1\n",
    "        y -= 1\n",
    "    return True\n",
    "\n",
    "s = \"racecar\"\n",
    "print(len(s))  \n",
    "print(funp(s))  \n"
   ]
  },
  {
   "cell_type": "markdown",
   "metadata": {},
   "source": [
    "---\n",
    "#### 4. Write a python code to check if two given strings is anagrams or not."
   ]
  },
  {
   "cell_type": "code",
   "execution_count": 7,
   "metadata": {},
   "outputs": [
    {
     "data": {
      "text/plain": [
       "True"
      ]
     },
     "execution_count": 7,
     "metadata": {},
     "output_type": "execute_result"
    }
   ],
   "source": [
    "def isAnagram(a, b):\n",
    " \n",
    "        if sorted(a) == sorted(b):\n",
    "            return True\n",
    "        else:\n",
    "            return False\n",
    "\n",
    "a= \"listen\"\n",
    "b= \"silent\"\n",
    "isAnagram(a,b)"
   ]
  },
  {
   "cell_type": "markdown",
   "metadata": {},
   "source": [
    "---\n",
    "#### 5. Write a code to found all occurences of given substring within another string."
   ]
  },
  {
   "cell_type": "code",
   "execution_count": 8,
   "metadata": {},
   "outputs": [
    {
     "name": "stdout",
     "output_type": "stream",
     "text": [
      "[10, 26]\n"
     ]
    }
   ],
   "source": [
    "def find_all_occurrences(substring, string):\n",
    "    occurrences = []\n",
    "    start = 0\n",
    "    \n",
    "    while True:\n",
    "        start = string.find(substring, start)\n",
    "        if start == -1:\n",
    "            break\n",
    "        occurrences.append(start)\n",
    "        start += 1  \n",
    "    \n",
    "    return occurrences\n",
    "\n",
    "main_string = \"This is a test string for testing\"\n",
    "substring = \"test\"\n",
    "print(find_all_occurrences(substring, main_string))\n"
   ]
  },
  {
   "cell_type": "markdown",
   "metadata": {},
   "source": [
    "---\n",
    "#### 6. Write a code to perform basic string compression using the counts of repeated characters."
   ]
  },
  {
   "cell_type": "code",
   "execution_count": 9,
   "metadata": {},
   "outputs": [
    {
     "data": {
      "text/plain": [
       "'a2b1c5a2'"
      ]
     },
     "execution_count": 9,
     "metadata": {},
     "output_type": "execute_result"
    }
   ],
   "source": [
    "def func(s):\n",
    "    compressed=''\n",
    "    count=1\n",
    "    for i in range(1,len(s)-1):\n",
    "        if s[i]==s[i-1]:\n",
    "            count+=1\n",
    "        else:\n",
    "            compressed+=s[i-1]+str(count)\n",
    "            count=1\n",
    "    compressed+=s[-1]+str(count+1)\n",
    "    return compressed if len(compressed) < len(s) else s\n",
    "\n",
    "s=\"aabcccccaa\"\n",
    "o_siz=len(s)\n",
    "sorted(s)\n",
    "func(s)"
   ]
  },
  {
   "cell_type": "markdown",
   "metadata": {},
   "source": [
    "---\n",
    "#### 7. Write a code to determine if a string has all the unique characters."
   ]
  },
  {
   "cell_type": "code",
   "execution_count": 10,
   "metadata": {},
   "outputs": [
    {
     "data": {
      "text/plain": [
       "True"
      ]
     },
     "execution_count": 10,
     "metadata": {},
     "output_type": "execute_result"
    }
   ],
   "source": [
    "def un(s):\n",
    "    s=sorted(s)\n",
    "    for i in range(1,len(s)):\n",
    "        if s[i]==s[i-1]:\n",
    "            return False \n",
    "    return True\n",
    "\n",
    "s=\"abcdef\"\n",
    "un(s)"
   ]
  },
  {
   "cell_type": "markdown",
   "metadata": {},
   "source": [
    "---\n",
    "#### 8. Write a code to convert a given string to lowercase and uppercase."
   ]
  },
  {
   "cell_type": "code",
   "execution_count": 11,
   "metadata": {},
   "outputs": [
    {
     "name": "stdout",
     "output_type": "stream",
     "text": [
      "uppercase of word is HELO WORLD and lowercase of word is helo world\n"
     ]
    }
   ],
   "source": [
    "word=\"helo world\"\n",
    "a= word.upper()\n",
    "b=word.lower()\n",
    "print(f\"uppercase of word is {a} and lowercase of word is {b}\")"
   ]
  },
  {
   "cell_type": "markdown",
   "metadata": {},
   "source": [
    "---\n",
    "#### 9. Write a code to concatenate two string without using + operator."
   ]
  },
  {
   "cell_type": "code",
   "execution_count": 12,
   "metadata": {},
   "outputs": [
    {
     "name": "stdout",
     "output_type": "stream",
     "text": [
      "abcdefg\n"
     ]
    }
   ],
   "source": [
    "s=\"abc\"\n",
    "s1=\"defg\"\n",
    "s3=\"\".join([s,s1])\n",
    "print(s3)"
   ]
  },
  {
   "cell_type": "markdown",
   "metadata": {},
   "source": [
    "---\n",
    "#### 10. Write a code to count the number of words in a string."
   ]
  },
  {
   "cell_type": "code",
   "execution_count": 13,
   "metadata": {},
   "outputs": [
    {
     "name": "stdout",
     "output_type": "stream",
     "text": [
      "Total count of words in s is 5\n"
     ]
    }
   ],
   "source": [
    "s=\"My name is Piyush Gaur\"\n",
    "words=s.split()\n",
    "count=len(words)\n",
    "print(f\"Total count of words in s is {count}\")\n"
   ]
  },
  {
   "cell_type": "markdown",
   "metadata": {},
   "source": [
    "---\n",
    "#### 11. Write a code to remove all the occurences of a specific element from the list."
   ]
  },
  {
   "cell_type": "code",
   "execution_count": 14,
   "metadata": {},
   "outputs": [
    {
     "name": "stdout",
     "output_type": "stream",
     "text": [
      "[2, 3, 4, 5, 2]\n"
     ]
    }
   ],
   "source": [
    "input=[1 ,1, 2, 3, 4, 5, 1, 2, 1]\n",
    "ans=filter(lambda x: x!=1,input) # removing the occurences of specific element which is 1\n",
    "print(list(ans))  "
   ]
  },
  {
   "cell_type": "markdown",
   "metadata": {},
   "source": [
    "---\n",
    "#### 12. implement a code to find the second largest number in a given list of integers. "
   ]
  },
  {
   "cell_type": "code",
   "execution_count": 15,
   "metadata": {},
   "outputs": [
    {
     "name": "stdout",
     "output_type": "stream",
     "text": [
      "8\n"
     ]
    }
   ],
   "source": [
    "\n",
    "input=[3,4,5,7,4,6,3,3,6,9,8,6]\n",
    "new_input=set(input) # we use set instead of normal list cause of removing duplicate elements.\n",
    "print(list(new_input)[-2])\n",
    "\n"
   ]
  },
  {
   "cell_type": "markdown",
   "metadata": {},
   "source": [
    "---\n",
    "#### 13. Create a code to count the occurences of each element in the list and return a dictionary with element as their keys and their count as values."
   ]
  },
  {
   "cell_type": "code",
   "execution_count": 16,
   "metadata": {},
   "outputs": [
    {
     "name": "stdout",
     "output_type": "stream",
     "text": [
      "{1: 3, 2: 4, 3: 2, 4: 2, 5: 1}\n"
     ]
    }
   ],
   "source": [
    "def count_ele(l):\n",
    "    dic={}\n",
    "    for i in l:\n",
    "        if i in dic:\n",
    "            dic[i]+=1\n",
    "        else :\n",
    "            dic[i]=1\n",
    "    return dic\n",
    "\n",
    "l=[1, 2, 3, 1, 2, 1, 3, 4, 5, 4, 2, 2]\n",
    "result = count_ele(l)\n",
    "print(result)"
   ]
  },
  {
   "cell_type": "markdown",
   "metadata": {},
   "source": [
    "---\n",
    "#### 14. Write a code to reverse a list in place without using any built in reverse function ."
   ]
  },
  {
   "cell_type": "code",
   "execution_count": 17,
   "metadata": {},
   "outputs": [
    {
     "name": "stdout",
     "output_type": "stream",
     "text": [
      "[7, 6, 5, 4, 3, 2, 1]\n"
     ]
    }
   ],
   "source": [
    "l=[1,2,3,4,5,6,7]\n",
    "a=0 \n",
    "b=len(l)-1\n",
    "while(a<b):\n",
    "   l[a],l[b]=l[b],l[a]\n",
    "   a+=1; b-=1;\n",
    "print(l)"
   ]
  },
  {
   "cell_type": "markdown",
   "metadata": {},
   "source": [
    "---\n",
    "#### 15. Implement a code to find and remove duplicates from a list while preserving the original order of elements."
   ]
  },
  {
   "cell_type": "code",
   "execution_count": 18,
   "metadata": {},
   "outputs": [
    {
     "name": "stdout",
     "output_type": "stream",
     "text": [
      "[1, 2, 3, 4, 5]\n"
     ]
    }
   ],
   "source": [
    "l=[1, 2, 3, 1, 2, 1, 3, 4, 5, 4, 2, 2]\n",
    "new_l=[]\n",
    "st=set()\n",
    "a=0\n",
    "while a<len(l):\n",
    "    if l[a] not in st:\n",
    "        new_l.append(l[a])\n",
    "        st.add(l[a])\n",
    "    a+=1\n",
    "\n",
    "print(new_l)"
   ]
  },
  {
   "cell_type": "markdown",
   "metadata": {},
   "source": [
    "---\n",
    "#### 16. create a code to check if a given list is sorted (either in ascending or descending order) or not."
   ]
  },
  {
   "cell_type": "code",
   "execution_count": 19,
   "metadata": {},
   "outputs": [
    {
     "name": "stdout",
     "output_type": "stream",
     "text": [
      "Is list1 sorted? True\n",
      "Is list2 sorted? False\n"
     ]
    }
   ],
   "source": [
    "def is_sorted(l):\n",
    "    asc=True\n",
    "    desc=True\n",
    "\n",
    "    for i in range(1,len(l)):\n",
    "        if l[i] > l[i-1]:\n",
    "            desc=False\n",
    "        if l[i] < l[i-1]:\n",
    "            asc=False\n",
    "    return asc or desc\n",
    "\n",
    "list1 = [1, 2, 3, 4, 5]\n",
    "list2 = [1, 3, 2, 4, 5]\n",
    "\n",
    "print(f\"Is list1 sorted? {is_sorted(list1)}\")  \n",
    "print(f\"Is list2 sorted? {is_sorted(list2)}\") \n"
   ]
  },
  {
   "cell_type": "markdown",
   "metadata": {},
   "source": [
    "---\n",
    "#### 17. Write a code to merger sorted list into single sorted list."
   ]
  },
  {
   "cell_type": "code",
   "execution_count": 20,
   "metadata": {},
   "outputs": [
    {
     "name": "stdout",
     "output_type": "stream",
     "text": [
      "[1, 2, 3, 4, 5, 6, 7, 8]\n"
     ]
    }
   ],
   "source": [
    "def merge(l1, l2):\n",
    "    l_new = []\n",
    "    a, b = 0, 0\n",
    "\n",
    "    while a < len(l1) and b < len(l2):\n",
    "        if l1[a] < l2[b]:\n",
    "            l_new.append(l1[a])\n",
    "            a += 1\n",
    "        else:\n",
    "            l_new.append(l2[b])\n",
    "            b += 1\n",
    "\n",
    "    while a < len(l1):\n",
    "        l_new.append(l1[a])\n",
    "        a += 1\n",
    "\n",
    "    while b < len(l2):\n",
    "        l_new.append(l2[b])\n",
    "        b += 1\n",
    "\n",
    "    return l_new\n",
    "\n",
    "list1 = [1, 3, 5, 7]\n",
    "list2 = [2, 4, 6, 8]\n",
    "merged_list = merge(list1, list2)\n",
    "print(merged_list)  \n"
   ]
  },
  {
   "cell_type": "markdown",
   "metadata": {},
   "source": [
    "---\n",
    "#### 18. Implement a code to find the intersection of two given list."
   ]
  },
  {
   "cell_type": "code",
   "execution_count": 21,
   "metadata": {},
   "outputs": [
    {
     "name": "stdout",
     "output_type": "stream",
     "text": [
      "[9, 10, 4, 5]\n"
     ]
    }
   ],
   "source": [
    "lst1 = [15, 9, 10, 56, 23, 78, 5, 4, 9]\n",
    "lst2 = [9, 4, 5, 36, 47, 26, 10, 45, 87]\n",
    "\n",
    "a=set(lst1)\n",
    "b=set(lst2)\n",
    "\n",
    "print(list(a & b))"
   ]
  },
  {
   "cell_type": "markdown",
   "metadata": {},
   "source": [
    "---\n",
    "#### 19. Write a code to find the union of two list without duplicates."
   ]
  },
  {
   "cell_type": "code",
   "execution_count": 22,
   "metadata": {},
   "outputs": [
    {
     "name": "stdout",
     "output_type": "stream",
     "text": [
      "[32, 2, 12, 14, 15, 16, 48, 47, 20, 52, 54, 23, 26]\n"
     ]
    }
   ],
   "source": [
    "lst1 = [23, 15, 2, 14, 14, 16, 20 ,52]\n",
    "lst2 = [2, 48, 15, 12, 26, 32, 47, 54]\n",
    "\n",
    "print(list(set().union(lst1,lst2)))"
   ]
  },
  {
   "cell_type": "markdown",
   "metadata": {},
   "source": [
    "---\n",
    "#### 20. write a code to shuffle a given list randomly without using any inbuilt shuffle function."
   ]
  },
  {
   "cell_type": "code",
   "execution_count": 23,
   "metadata": {},
   "outputs": [
    {
     "name": "stdout",
     "output_type": "stream",
     "text": [
      "Original List:  [1, 2, 3, 4, 5, 6]\n",
      "Shuffled List:  [3, 6, 5, 1, 2, 4]\n"
     ]
    }
   ],
   "source": [
    "import random\n",
    "arr = [1, 2, 3, 4, 5, 6]\n",
    "\n",
    "print(\"Original List: \", arr)\n",
    "n = len(arr)\n",
    "for i in range(n):\n",
    "    j = random.randint(0, n-1)\n",
    "    element = arr.pop(j)\n",
    "    arr.append(element)\n",
    "     \n",
    "print(\"Shuffled List: \", arr)"
   ]
  },
  {
   "cell_type": "markdown",
   "metadata": {},
   "source": [
    "---\n",
    "#### 21. Write a code that takes two tuples as input  and return new tuple containing elements that are common to both input tuples."
   ]
  },
  {
   "cell_type": "code",
   "execution_count": 24,
   "metadata": {},
   "outputs": [
    {
     "name": "stdout",
     "output_type": "stream",
     "text": [
      "(4, 5)\n"
     ]
    }
   ],
   "source": [
    "def common_elements(tp1,tp2):\n",
    "    a=set(tp1)\n",
    "    b=set(tp2)\n",
    "\n",
    "    return tuple(a & b)\n",
    "\n",
    "tuple1 = (1, 2, 3, 4, 5)\n",
    "tuple2 = (4, 5, 6, 7, 8)\n",
    "result = common_elements(tuple1, tuple2)\n",
    "print(result)"
   ]
  },
  {
   "cell_type": "markdown",
   "metadata": {},
   "source": [
    "---\n",
    "#### 22. Create a code that prompts the user to enter two sets of integer seprated by commas,then print the intersecttion of these two sets."
   ]
  },
  {
   "cell_type": "code",
   "execution_count": 25,
   "metadata": {},
   "outputs": [
    {
     "ename": "TypeError",
     "evalue": "'list' object is not callable",
     "output_type": "error",
     "traceback": [
      "\u001b[1;31m---------------------------------------------------------------------------\u001b[0m",
      "\u001b[1;31mTypeError\u001b[0m                                 Traceback (most recent call last)",
      "Cell \u001b[1;32mIn[25], line 4\u001b[0m\n\u001b[0;32m      1\u001b[0m st1\u001b[38;5;241m=\u001b[39m\u001b[38;5;28mset\u001b[39m()\n\u001b[0;32m      2\u001b[0m st2\u001b[38;5;241m=\u001b[39m\u001b[38;5;28mset\u001b[39m()\n\u001b[1;32m----> 4\u001b[0m input_numbers\u001b[38;5;241m=\u001b[39m\u001b[38;5;28mint\u001b[39m(\u001b[38;5;28;43minput\u001b[39;49m\u001b[43m(\u001b[49m\u001b[38;5;124;43m\"\u001b[39;49m\u001b[38;5;124;43mthe no. of inputs for st1\u001b[39;49m\u001b[38;5;124;43m\"\u001b[39;49m\u001b[43m)\u001b[49m)\n\u001b[0;32m      6\u001b[0m \u001b[38;5;28;01mfor\u001b[39;00m i \u001b[38;5;129;01min\u001b[39;00m \u001b[38;5;28mrange\u001b[39m(input_numbers):\n\u001b[0;32m      7\u001b[0m     input_number\u001b[38;5;241m=\u001b[39m\u001b[38;5;28minput\u001b[39m(\u001b[38;5;124mf\u001b[39m\u001b[38;5;124m\"\u001b[39m\u001b[38;5;124mEnter input \u001b[39m\u001b[38;5;132;01m{\u001b[39;00mi\u001b[38;5;250m \u001b[39m\u001b[38;5;241m+\u001b[39m\u001b[38;5;250m \u001b[39m\u001b[38;5;241m1\u001b[39m\u001b[38;5;132;01m}\u001b[39;00m\u001b[38;5;124m: \u001b[39m\u001b[38;5;124m\"\u001b[39m)\n",
      "\u001b[1;31mTypeError\u001b[0m: 'list' object is not callable"
     ]
    }
   ],
   "source": [
    "st1=set()\n",
    "st2=set()\n",
    "\n",
    "input_numbers=int(input(\"the no. of inputs for st1\"))\n",
    "\n",
    "for i in range(input_numbers):\n",
    "    input_number=input(f\"Enter input {i + 1}: \")\n",
    "    st1.add(input_number)\n",
    "\n",
    "input_numbers2=int(input(\"the no. of inputs for st2\"))\n",
    "\n",
    "for i in range(input_numbers2):\n",
    "    input_number2=input(f\"Enter input {i + 1}: \")\n",
    "    st2.add(input_number2)\n",
    "\n",
    "print(list(st1 & st2))"
   ]
  },
  {
   "cell_type": "markdown",
   "metadata": {},
   "source": [
    "---\n",
    "#### 23. Write a code to concatenate two tuples.The function should take two tuple as input and rturn new tuple conatining element from both input tuples."
   ]
  },
  {
   "cell_type": "code",
   "execution_count": null,
   "metadata": {},
   "outputs": [
    {
     "name": "stdout",
     "output_type": "stream",
     "text": [
      "(1, 2, 3, 4, 5, 4, 5, 6, 7, 8)\n"
     ]
    },
    {
     "data": {
      "text/plain": [
       "tuple"
      ]
     },
     "execution_count": 2,
     "metadata": {},
     "output_type": "execute_result"
    }
   ],
   "source": [
    "def fun(tp1,tp2):\n",
    "   return tp1+tp2\n",
    "\n",
    "tuple1 = (1, 2, 3, 4, 5)\n",
    "tuple2 = (4, 5, 6, 7, 8)\n",
    "ans=tuple((fun(tuple1,tuple2)))\n",
    "print(tuple(ans))\n",
    "type(ans)\n"
   ]
  },
  {
   "cell_type": "markdown",
   "metadata": {},
   "source": [
    "---\n",
    "#### 24. Develop a code to prompt a user to input two set of strings.Then prints the elements that are present in the first set but not in the second set"
   ]
  },
  {
   "cell_type": "code",
   "execution_count": null,
   "metadata": {},
   "outputs": [],
   "source": [
    "st1=set()\n",
    "st2=set()\n",
    "\n",
    "input_numbers=int(input(\"the no. of inputs for st1\"))\n",
    "\n",
    "for i in range(input_numbers):\n",
    "    input_number=input(f\"Enter input {i + 1}: \")\n",
    "    st1.add(input_number)\n",
    "\n",
    "input_numbers2=int(input(\"the no. of inputs for st2\"))\n",
    "\n",
    "for i in range(input_numbers2):\n",
    "    input_number2=input(f\"Enter input {i + 1}: \")\n",
    "    st2.add(input_number2)\n",
    "\n",
    "print(st1 - st2)\n"
   ]
  },
  {
   "cell_type": "markdown",
   "metadata": {},
   "source": [
    "---\n",
    "#### 25. Create a code that takes a tuple and two integers as input.The function should return a new tuple containing elements from the original tuple within the specified range of indices."
   ]
  },
  {
   "cell_type": "code",
   "execution_count": null,
   "metadata": {},
   "outputs": [
    {
     "name": "stdout",
     "output_type": "stream",
     "text": [
      "New tuple: (20, 30, 40)\n"
     ]
    }
   ],
   "source": [
    "def element_range(tp,s,e):\n",
    "    new_tp=tuple()\n",
    "    for i in range(s,e):\n",
    "        new_tp+=(tp[i],)\n",
    "    \n",
    "    return new_tp\n",
    "\n",
    "original_tuple = (10, 20, 30, 40, 50, 60)\n",
    "start_index = 1\n",
    "end_index = 4\n",
    "\n",
    "result = element_range(original_tuple, start_index, end_index)\n",
    "print(\"New tuple:\", result)"
   ]
  },
  {
   "cell_type": "markdown",
   "metadata": {},
   "source": [
    "---\n",
    "#### 26. Write a code that prompts a user to input two sets of characters.Then print the union of these two sets."
   ]
  },
  {
   "cell_type": "code",
   "execution_count": null,
   "metadata": {},
   "outputs": [],
   "source": [
    "st1=set()\n",
    "st2=set()\n",
    "\n",
    "input_numbers=int(input(\"the no. of inputs for st1\"))\n",
    "\n",
    "for i in range(input_numbers):\n",
    "    input_char=input(f\"Enter input {i + 1}: \")\n",
    "    st1.add(input_char)\n",
    "\n",
    "input_numbers2=int(input(\"the no. of inputs for st2\"))\n",
    "\n",
    "for i in range(input_numbers2):\n",
    "    input_char2=input(f\"Enter input {i + 1}: \")\n",
    "    st2.add(input_char2)\n",
    "\n",
    "print(st1 | st2)\n"
   ]
  },
  {
   "cell_type": "markdown",
   "metadata": {},
   "source": [
    "---\n",
    "#### 27. Develop a code that takes a tuple of integers as input. The function should return the maximum and minimum values from the tuple using tuple unpacking.\n"
   ]
  },
  {
   "cell_type": "code",
   "execution_count": null,
   "metadata": {},
   "outputs": [
    {
     "name": "stdout",
     "output_type": "stream",
     "text": [
      "Minimum value: 1\n",
      "Maximum value: 9\n"
     ]
    }
   ],
   "source": [
    "#Tuple unpacking in Python refers to the process of assigning the values of a tuple to a sequence of \n",
    "# variables in a single statement.\n",
    "\n",
    "def find_min_max(t):\n",
    "    min_val = min(t)\n",
    "    max_val = max(t)\n",
    "    return min_val, max_val\n",
    "\n",
    "input_tuple = (3, 1, 4, 1, 5, 9, 2, 6, 5, 3, 5)\n",
    "min_val, max_val = find_min_max(input_tuple)\n",
    "print(f\"Minimum value: {min_val}\")\n",
    "print(f\"Maximum value: {max_val}\")\n"
   ]
  },
  {
   "cell_type": "markdown",
   "metadata": {},
   "source": [
    "---\n",
    "#### 28. Create a code that defines two sets of integers. Then, print the union, intersection, and difference of these two sets."
   ]
  },
  {
   "cell_type": "code",
   "execution_count": null,
   "metadata": {},
   "outputs": [
    {
     "name": "stdout",
     "output_type": "stream",
     "text": [
      "Union of set1 and set2: {1, 2, 3, 4, 5, 6, 7, 8}\n",
      "Intersection of set1 and set2: {4, 5}\n",
      "Difference of set1 and set2 (set1 - set2): {1, 2, 3}\n",
      "Difference of set2 and set1 (set2 - set1): {8, 6, 7}\n"
     ]
    }
   ],
   "source": [
    "# Define two sets of integers\n",
    "set1 = {1, 2, 3, 4, 5}\n",
    "set2 = {4, 5, 6, 7, 8}\n",
    "\n",
    "union_set = set1 | set2\n",
    "print(\"Union of set1 and set2:\", union_set)\n",
    "\n",
    "intersection_set = set1 & set2\n",
    "print(\"Intersection of set1 and set2:\", intersection_set)\n",
    "\n",
    "difference_set1 = set1 - set2\n",
    "print(\"Difference of set1 and set2 (set1 - set2):\", difference_set1)\n",
    "\n",
    "difference_set2 = set2 - set1\n",
    "print(\"Difference of set2 and set1 (set2 - set1):\", difference_set2)\n"
   ]
  },
  {
   "cell_type": "markdown",
   "metadata": {},
   "source": [
    "---\n",
    "#### 29. Write a code that takes a tuple and an element as input. The function should return the count of occurrences of the given element in the tuple."
   ]
  },
  {
   "cell_type": "code",
   "execution_count": null,
   "metadata": {},
   "outputs": [
    {
     "name": "stdout",
     "output_type": "stream",
     "text": [
      "The element 1 occurs 4 times in the tuple.\n"
     ]
    }
   ],
   "source": [
    "def count_occurrences(t, elem):\n",
    "    return t.count(elem)\n",
    "\n",
    "input_tuple = (1, 2, 3, 1, 4, 1, 5, 1)\n",
    "element_to_count = 1\n",
    "count = count_occurrences(input_tuple, element_to_count)\n",
    "print(f\"The element {element_to_count} occurs {count} times in the tuple.\")\n"
   ]
  },
  {
   "cell_type": "markdown",
   "metadata": {},
   "source": [
    "---\n",
    "#### 30. Develop a code that prompts the user to input two sets of strings. Then, print the symmetric difference of these two sets."
   ]
  },
  {
   "cell_type": "code",
   "execution_count": null,
   "metadata": {},
   "outputs": [],
   "source": [
    "st1=set()\n",
    "st2=set()\n",
    "\n",
    "input_numbers=int(input(\"the no. of inputs for st1\"))\n",
    "\n",
    "for i in range(input_numbers):\n",
    "    input_char=input(f\"Enter input {i + 1}: \")\n",
    "    st1.add(input_char)\n",
    "\n",
    "input_numbers2=int(input(\"the no. of inputs for st2\"))\n",
    "\n",
    "for i in range(input_numbers2):\n",
    "    input_char2=input(f\"Enter input {i + 1}: \")\n",
    "    st2.add(input_char2)\n",
    "\n",
    "print(st1.symmetric_difference(st2))\n",
    "\n"
   ]
  },
  {
   "cell_type": "markdown",
   "metadata": {},
   "source": [
    "---\n",
    "#### 31. Write a code that takes a list of words as input and returns a dictionary where the keys are unique words and the values are the frequencies of those words in the input list."
   ]
  },
  {
   "cell_type": "code",
   "execution_count": null,
   "metadata": {},
   "outputs": [
    {
     "name": "stdout",
     "output_type": "stream",
     "text": [
      "{'apple': 3, 'banana': 2, 'orange': 1}\n"
     ]
    }
   ],
   "source": [
    "def word_freq(input_list):\n",
    "    ans={}\n",
    "    count=1\n",
    "    for i in input_list:\n",
    "        if i in ans:\n",
    "            ans[i]+=count\n",
    "        else:\n",
    "            ans[i]=count\n",
    "            count=1\n",
    "    return ans\n",
    "\n",
    "input_list = [\"apple\", \"banana\", \"apple\", \"orange\", \"banana\", \"apple\"]\n",
    "result = word_freq(input_list)\n",
    "print(result)"
   ]
  },
  {
   "cell_type": "markdown",
   "metadata": {},
   "source": [
    "---\n",
    "#### 32. Write a code that takes two dictionaries as input and merges them into a single dictionary. If there are common keys, the values should be added together."
   ]
  },
  {
   "cell_type": "code",
   "execution_count": null,
   "metadata": {},
   "outputs": [
    {
     "name": "stdout",
     "output_type": "stream",
     "text": [
      "{'a': 1, 'b': 5, 'c': 7, 'd': 5}\n"
     ]
    }
   ],
   "source": [
    "def merge_dictionaries(dict1, dict2):\n",
    "    merged_dict = dict1.copy()  # Start with a copy of the first dictionary\n",
    "    \n",
    "    for key, value in dict2.items():\n",
    "        if key in merged_dict:\n",
    "            merged_dict[key] += value  \n",
    "        else:\n",
    "            merged_dict[key] = value  \n",
    "    \n",
    "    return merged_dict\n",
    "\n",
    "dict1 = {'a': 1, 'b': 2, 'c': 3}\n",
    "dict2 = {'b': 3, 'c': 4, 'd': 5}\n",
    "\n",
    "result = merge_dictionaries(dict1, dict2)\n",
    "print(result)  \n"
   ]
  },
  {
   "cell_type": "markdown",
   "metadata": {},
   "source": [
    "---\n",
    "#### 33. Write a code to access a value in a nested dictionary. The function should take the dictionary and a list of keys as input, and return the corresponding value. If any of the keys do not exist in the dictionary, the function should return None.\n"
   ]
  },
  {
   "cell_type": "code",
   "execution_count": null,
   "metadata": {},
   "outputs": [
    {
     "name": "stdout",
     "output_type": "stream",
     "text": [
      "d\n",
      "{'c': 'd'}\n",
      "z\n",
      "None\n"
     ]
    }
   ],
   "source": [
    "def fundic(n_dict,lst):\n",
    "    current_dict=n_dict\n",
    "    for i in lst:\n",
    "        if  isinstance(current_dict,type({})) and i in current_dict :\n",
    "            current_dict=current_dict[i]\n",
    "        else:\n",
    "            return None\n",
    "    return current_dict\n",
    "\n",
    "dicty = {\n",
    "    'a': {'b': {'c': 'd'}},\n",
    "    'x': {'y': 'z'}\n",
    "}\n",
    "\n",
    "keys1 = ['a', 'b', 'c']\n",
    "keys2 = ['a', 'b']\n",
    "keys3 = ['x', 'y']\n",
    "keys4 = ['x', 'y', 'z']\n",
    "\n",
    "print(fundic(dicty, keys1))  \n",
    "print(fundic(dicty, keys2))  \n",
    "print(fundic(dicty, keys3))  \n",
    "print(fundic(dicty, keys4)) \n"
   ]
  },
  {
   "cell_type": "markdown",
   "metadata": {},
   "source": [
    "---\n",
    "#### 34. Write a code that takes a dictionary as input and returns a sorted version of it based on the values. You can choose whether to sort in ascending or descending order.\n"
   ]
  },
  {
   "cell_type": "code",
   "execution_count": null,
   "metadata": {},
   "outputs": [
    {
     "name": "stdout",
     "output_type": "stream",
     "text": [
      "Ascending: [('b', 1), ('c', 2), ('a', 3), ('d', 4)]\n",
      "Descending: [('d', 4), ('a', 3), ('c', 2), ('b', 1)]\n"
     ]
    }
   ],
   "source": [
    "def sort_dict_by_values(input_dict, ascending=True):\n",
    "    sorted_dict={}\n",
    "    sorted_dict = sorted(input_dict.items(), key=lambda item: item[1], reverse=not ascending)\n",
    "    return sorted_dict\n",
    "\n",
    "\n",
    "input_dict = {'a': 3,'b': 1,'c': 2,'d': 4}\n",
    "\n",
    "sorted_dict_asc = sort_dict_by_values(input_dict, ascending=True)\n",
    "print(\"Ascending:\", sorted_dict_asc)\n",
    "\n",
    "\n",
    "sorted_dict_desc = sort_dict_by_values(input_dict, ascending=False)\n",
    "print(\"Descending:\", sorted_dict_desc)\n",
    "\n"
   ]
  },
  {
   "cell_type": "markdown",
   "metadata": {},
   "source": [
    "---\n",
    "#### 35. Write a code that inverts a dictionary, swapping keys and values. Ensure that the inverted dictionary correctly handles cases where multiple keys have the same value by storing the keys as a list in the inverted dictionary."
   ]
  },
  {
   "cell_type": "code",
   "execution_count": null,
   "metadata": {},
   "outputs": [
    {
     "name": "stdout",
     "output_type": "stream",
     "text": [
      "{1: ['a', 'c'], 2: ['b', 'd'], 3: ['e']}\n"
     ]
    }
   ],
   "source": [
    "def invert_dictionary(o_dict):\n",
    "    i_dict={}\n",
    "    for key, value in o_dict.items():\n",
    "        if value in i_dict:\n",
    "            i_dict[value].append(key)\n",
    "        else:\n",
    "            i_dict[value] = [key]\n",
    "    return i_dict\n",
    "                \n",
    "original_dict = {'a': 1, 'b': 2, 'c': 1, 'd': 2, 'e': 3}\n",
    "inverted_dict = invert_dictionary(original_dict)\n",
    "print(inverted_dict)"
   ]
  }
 ],
 "metadata": {
  "kernelspec": {
   "display_name": "Python 3",
   "language": "python",
   "name": "python3"
  },
  "language_info": {
   "codemirror_mode": {
    "name": "ipython",
    "version": 3
   },
   "file_extension": ".py",
   "mimetype": "text/x-python",
   "name": "python",
   "nbconvert_exporter": "python",
   "pygments_lexer": "ipython3",
   "version": "3.11.5"
  }
 },
 "nbformat": 4,
 "nbformat_minor": 2
}
